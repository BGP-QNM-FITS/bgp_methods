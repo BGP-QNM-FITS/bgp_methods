{
 "cells": [
  {
   "cell_type": "code",
   "execution_count": null,
   "id": "9a7f77b7",
   "metadata": {},
   "outputs": [],
   "source": [
    "import matplotlib.pyplot as plt\n",
    "import numpy as np\n",
    "import scipy.stats as stats\n",
    "\n",
    "import CCE as CCE"
   ]
  },
  {
   "cell_type": "code",
   "execution_count": 6,
   "id": "813763bf",
   "metadata": {},
   "outputs": [],
   "source": [
    "sim_id = \"0001\""
   ]
  },
  {
   "cell_type": "code",
   "execution_count": 7,
   "id": "0c9b1882",
   "metadata": {},
   "outputs": [
    {
     "ename": "NameError",
     "evalue": "name 'CCE' is not defined",
     "output_type": "error",
     "traceback": [
      "\u001b[0;31m---------------------------------------------------------------------------\u001b[0m",
      "\u001b[0;31mNameError\u001b[0m                                 Traceback (most recent call last)",
      "Cell \u001b[0;32mIn[7], line 1\u001b[0m\n\u001b[0;32m----> 1\u001b[0m sim_main \u001b[38;5;241m=\u001b[39m \u001b[43mCCE\u001b[49m\u001b[38;5;241m.\u001b[39mSXS_CCE(sim_id, lev\u001b[38;5;241m=\u001b[39m\u001b[38;5;124m\"\u001b[39m\u001b[38;5;124mLev5\u001b[39m\u001b[38;5;124m\"\u001b[39m, radius\u001b[38;5;241m=\u001b[39m\u001b[38;5;124m\"\u001b[39m\u001b[38;5;124mR2\u001b[39m\u001b[38;5;124m\"\u001b[39m)\n\u001b[1;32m      2\u001b[0m sim_lower \u001b[38;5;241m=\u001b[39m CCE\u001b[38;5;241m.\u001b[39mSXS_CCE(sim_id, lev\u001b[38;5;241m=\u001b[39m\u001b[38;5;124m\"\u001b[39m\u001b[38;5;124mLev4\u001b[39m\u001b[38;5;124m\"\u001b[39m, radius\u001b[38;5;241m=\u001b[39m\u001b[38;5;124m\"\u001b[39m\u001b[38;5;124mR2\u001b[39m\u001b[38;5;124m\"\u001b[39m) \n",
      "\u001b[0;31mNameError\u001b[0m: name 'CCE' is not defined"
     ]
    }
   ],
   "source": [
    "sim_main = CCE.SXS_CCE(sim_id, lev=\"Lev5\", radius=\"R2\")\n",
    "sim_lower = CCE.SXS_CCE(sim_id, lev=\"Lev4\", radius=\"R2\") "
   ]
  },
  {
   "cell_type": "code",
   "execution_count": 5,
   "id": "b7e37596",
   "metadata": {},
   "outputs": [
    {
     "data": {
      "text/plain": [
       "5.184705528587073e+21"
      ]
     },
     "execution_count": 5,
     "metadata": {},
     "output_type": "execute_result"
    }
   ],
   "source": [
    "stats.lognorm(s=10, scale=1).mean()"
   ]
  },
  {
   "cell_type": "code",
   "execution_count": 3,
   "id": "cad5b4d6",
   "metadata": {},
   "outputs": [
    {
     "data": {
      "text/plain": [
       "(array([ 0.06755959,  0.04503973,  0.04503973,  0.15763905,  0.15763905,\n",
       "         0.3152781 ,  0.3828377 ,  0.58551648,  1.0133939 ,  1.50883092,\n",
       "         1.82410903,  2.81498306,  4.05357561,  4.1886948 ,  5.04444965,\n",
       "         6.19296274,  6.80099909,  8.12967109,  9.59346229, 10.5392966 ,\n",
       "        11.66528982, 11.77788914, 12.65616386, 12.11568711, 12.65616386,\n",
       "        13.06152142, 12.20576657, 11.46261104,  9.66102188,  9.75110134,\n",
       "         8.19723069,  7.04871759,  5.87768464,  4.75169141,  3.94097629,\n",
       "         3.8058571 ,  2.76994334,  2.22946659,  1.32867201,  1.41875146,\n",
       "         0.90079458,  0.81071512,  0.58551648,  0.33779797,  0.27023837,\n",
       "         0.13511919,  0.04503973,  0.11259932,  0.06755959,  0.09007946]),\n",
       " array([0.8927644 , 0.89720492, 0.90164545, 0.90608597, 0.9105265 ,\n",
       "        0.91496702, 0.91940754, 0.92384807, 0.92828859, 0.93272912,\n",
       "        0.93716964, 0.94161016, 0.94605069, 0.95049121, 0.95493174,\n",
       "        0.95937226, 0.96381278, 0.96825331, 0.97269383, 0.97713436,\n",
       "        0.98157488, 0.9860154 , 0.99045593, 0.99489645, 0.99933698,\n",
       "        1.0037775 , 1.00821802, 1.01265855, 1.01709907, 1.0215396 ,\n",
       "        1.02598012, 1.03042064, 1.03486117, 1.03930169, 1.04374222,\n",
       "        1.04818274, 1.05262327, 1.05706379, 1.06150431, 1.06594484,\n",
       "        1.07038536, 1.07482589, 1.07926641, 1.08370693, 1.08814746,\n",
       "        1.09258798, 1.09702851, 1.10146903, 1.10590955, 1.11035008,\n",
       "        1.1147906 ]),\n",
       " <BarContainer object of 50 artists>)"
      ]
     },
     "execution_count": 3,
     "metadata": {},
     "output_type": "execute_result"
    },
    {
     "data": {
      "image/png": "[encoded data removed]",
      "text/plain": [
       "<Figure size 640x480 with 1 Axes>"
      ]
     },
     "metadata": {},
     "output_type": "display_data"
    }
   ],
   "source": [
    "samples = stats.chi2(2000).rvs(10000) \n",
    "\n",
    "plt.hist(samples / 2000, bins=50, density=True, alpha=0.5, color='blue', label='Sampled Data')"
   ]
  }
 ],
 "metadata": {
  "kernelspec": {
   "display_name": "venv",
   "language": "python",
   "name": "python3"
  },
  "language_info": {
   "codemirror_mode": {
    "name": "ipython",
    "version": 3
   },
   "file_extension": ".py",
   "mimetype": "text/x-python",
   "name": "python",
   "nbconvert_exporter": "python",
   "pygments_lexer": "ipython3",
   "version": "3.11.4"
  }
 },
 "nbformat": 4,
 "nbformat_minor": 5
}
