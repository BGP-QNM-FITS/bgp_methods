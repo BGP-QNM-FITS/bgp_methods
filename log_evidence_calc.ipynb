{
 "cells": [
  {
   "cell_type": "code",
   "execution_count": 5,
   "id": "a0c51df4",
   "metadata": {},
   "outputs": [],
   "source": [
    "import pickle\n",
    "import sys\n",
    "import numpy as np\n",
    "import matplotlib.pyplot as plt \n",
    "from pathlib import Path\n",
    "import bgp_qnm_fits as bgp"
   ]
  },
  {
   "cell_type": "code",
   "execution_count": 6,
   "id": "b3ed433d",
   "metadata": {},
   "outputs": [],
   "source": [
    "\n",
    "SMOOTHNESS = 1e-3\n",
    "TIME_SHIFT = 0 \n",
    "\n",
    "# These determine the parameter and training range but do not have to match `analysis times' used later.\n",
    "\n",
    "RESIDUAL_BIG_START = -10\n",
    "RESIDUAL_BIG_END = 310\n",
    "TIME_STEP = 0.1\n",
    "\n",
    "TRAINING_START_TIME_WN = 0\n",
    "TRAINING_RANGE_WN = 200\n",
    "\n",
    "HYPERPARAM_RULE_DICT_WN = {\n",
    "    \"sigma_max\": \"multiply\",\n",
    "}\n",
    "\n",
    "HYPERPARAM_RULE_DICT_GP = {\n",
    "    \"sigma_max\": \"multiply\",\n",
    "    \"period\": \"multiply\",\n",
    "}\n",
    "\n",
    "HYPERPARAM_RULE_DICT_GPC = {\n",
    "    \"sigma_max\": \"multiply\",\n",
    "    \"period\": \"multiply\",\n",
    "    \"length_scale_2\": \"multiply\",\n",
    "    \"period_2\": \"multiply\",\n",
    "    \"a\": \"replace\",\n",
    "}\n",
    "\n",
    "TRAINING_SPH_MODES = [\n",
    "    (2, 2),\n",
    "    (2, 1),\n",
    "    (3, 3),\n",
    "    (3, 2),\n",
    "    (4, 4),\n",
    "    (2, -2),\n",
    "    (2, -1),\n",
    "    (3, -3),\n",
    "    (3, -2),\n",
    "    (4, -4),\n",
    "]\n",
    "\n",
    "SIM_TRAINING_MODE_RULES = {\n",
    "    \"0001\": \"PE\",\n",
    "    \"0002\": \"PE\",\n",
    "    \"0003\": \"PE\",\n",
    "    \"0004\": \"PE\",\n",
    "    \"0005\": \"P\",\n",
    "    \"0006\": \"P\",\n",
    "    \"0007\": \"P\",\n",
    "    \"0008\": \"ALL\",\n",
    "    \"0009\": \"E\",\n",
    "    \"0010\": \"P\",\n",
    "    \"0011\": \"P\",\n",
    "    \"0012\": \"P\",\n",
    "    \"0013\": \"ALL\",\n",
    "}"
   ]
  },
  {
   "cell_type": "code",
   "execution_count": 8,
   "id": "e9d35969",
   "metadata": {},
   "outputs": [],
   "source": [
    "analysis_times = np.arange(TRAINING_START_TIME_WN, TRAINING_START_TIME_WN + TRAINING_RANGE_WN, TIME_STEP)\n",
    "\n",
    "param_dict_sim_lm = bgp.get_param_dict(data_type=\"news\")\n",
    "tuned_params_news = bgp.get_tuned_param_dict(\"GP\", data_type=\"news\")\n",
    "R_news = bgp.get_residual_data(big=True, data_type=\"news\")"
   ]
  },
  {
   "cell_type": "code",
   "execution_count": 24,
   "id": "a3e40f77",
   "metadata": {},
   "outputs": [],
   "source": [
    "full_times = np.arange(RESIDUAL_BIG_START, RESIDUAL_BIG_START+RESIDUAL_BIG_END, TIME_STEP)\n",
    "# Find the indices in full_times that are closest to the first and last analysis_times\n",
    "start_idx = np.abs(full_times - analysis_times[0]).argmin()\n",
    "end_idx = np.abs(full_times - analysis_times[-1]).argmin()\n",
    "mask = np.zeros_like(full_times, dtype=bool)\n",
    "mask[start_idx:end_idx+1] = True\n",
    "\n",
    "R_news_masked = {\n",
    "    key: {subkey: np.array(values)[mask] for subkey, values in subdict.items()}\n",
    "    for key, subdict in R_news.items()\n",
    "}"
   ]
  },
  {
   "cell_type": "code",
   "execution_count": 25,
   "id": "1985f8ca",
   "metadata": {},
   "outputs": [
    {
     "data": {
      "text/plain": [
       "2000"
      ]
     },
     "execution_count": 25,
     "metadata": {},
     "output_type": "execute_result"
    }
   ],
   "source": [
    "len(R_news_masked['0001'][(2,2)])"
   ]
  },
  {
   "cell_type": "code",
   "execution_count": 26,
   "id": "cef15167",
   "metadata": {},
   "outputs": [],
   "source": [
    "wn_hyperparams = [0.20202315621798156]\n",
    "gp_hyperparams = [6.916479343926145, 1.6788343847045542]\n",
    "gpc_hyperparams = [8.28904248745442, 1.959288624090839, 0.4204419582784812, 1.0019473516595827, 0.11533919911875894]"
   ]
  },
  {
   "cell_type": "code",
   "execution_count": 27,
   "id": "4517bc95",
   "metadata": {},
   "outputs": [],
   "source": [
    "likelihood_wn = bgp.get_total_log_likelihood(\n",
    "    wn_hyperparams,\n",
    "    param_dict_sim_lm,\n",
    "    R_news_masked,\n",
    "    HYPERPARAM_RULE_DICT_WN,\n",
    "    analysis_times,\n",
    "    bgp.kernel_WN,\n",
    "    TRAINING_SPH_MODES,\n",
    "    SIM_TRAINING_MODE_RULES,\n",
    "    alpha=2,\n",
    "    beta=2,\n",
    ")\n",
    "\n",
    "likelihood_gp = bgp.get_total_log_likelihood(\n",
    "    gp_hyperparams,\n",
    "    param_dict_sim_lm,\n",
    "    R_news_masked,\n",
    "    HYPERPARAM_RULE_DICT_GP,\n",
    "    analysis_times,\n",
    "    bgp.kernel_GP,\n",
    "    TRAINING_SPH_MODES,\n",
    "    SIM_TRAINING_MODE_RULES,\n",
    "    alpha=2,\n",
    "    beta=2,\n",
    ")\n",
    "\n",
    "likelihood_gp = bgp.get_total_log_likelihood(\n",
    "    gp_hyperparams,\n",
    "    param_dict_sim_lm,\n",
    "    R_news_masked,\n",
    "    HYPERPARAM_RULE_DICT_GP,\n",
    "    analysis_times,\n",
    "    bgp.kernel_GP,\n",
    "    TRAINING_SPH_MODES,\n",
    "    SIM_TRAINING_MODE_RULES,\n",
    "    alpha=2,\n",
    "    beta=2,\n",
    ")\n",
    "\n",
    "likelihood_gpc = bgp.get_total_log_likelihood(\n",
    "    gpc_hyperparams,\n",
    "    param_dict_sim_lm,\n",
    "    R_news_masked,\n",
    "    HYPERPARAM_RULE_DICT_GPC,\n",
    "    analysis_times,\n",
    "    bgp.kernel_GPC,\n",
    "    TRAINING_SPH_MODES,\n",
    "    SIM_TRAINING_MODE_RULES,\n",
    "    alpha=2,\n",
    "    beta=2,\n",
    ")\n"
   ]
  },
  {
   "cell_type": "code",
   "execution_count": 28,
   "id": "60d4a5da",
   "metadata": {},
   "outputs": [
    {
     "name": "stdout",
     "output_type": "stream",
     "text": [
      "-4312853.507679867\n",
      "-7338376.2073224615\n",
      "-7347277.18159403\n"
     ]
    }
   ],
   "source": [
    "print(likelihood_wn)\n",
    "print(likelihood_gp)\n",
    "print(likelihood_gpc)"
   ]
  }
 ],
 "metadata": {
  "kernelspec": {
   "display_name": "venv",
   "language": "python",
   "name": "python3"
  },
  "language_info": {
   "codemirror_mode": {
    "name": "ipython",
    "version": 3
   },
   "file_extension": ".py",
   "mimetype": "text/x-python",
   "name": "python",
   "nbconvert_exporter": "python",
   "pygments_lexer": "ipython3",
   "version": "3.11.4"
  }
 },
 "nbformat": 4,
 "nbformat_minor": 5
}
