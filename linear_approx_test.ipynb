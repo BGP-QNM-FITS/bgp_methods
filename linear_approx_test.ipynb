{
 "cells": [
  {
   "cell_type": "code",
   "execution_count": 5,
   "id": "cb98248a",
   "metadata": {},
   "outputs": [],
   "source": [
    "import qnmfits\n",
    "import os \n",
    "os.environ['JAX_PLATFORMS'] = 'cpu'\n",
    "import jax\n",
    "import jax.numpy as jnp\n",
    "import matplotlib.pyplot as plt\n",
    "from scipy.optimize import minimize\n",
    "from functools import partial\n",
    "\n",
    "jax.config.update(\"jax_platform_name\", \"cpu\")\n",
    "jax.config.update(\"jax_enable_x64\", True)"
   ]
  },
  {
   "cell_type": "code",
   "execution_count": 6,
   "id": "475693c1",
   "metadata": {},
   "outputs": [],
   "source": [
    "def get_frequency(mode, chif, Mf):\n",
    "    \"\"\"\n",
    "    Compute the frequency for a given QNM mode and spin.\n",
    "\n",
    "    Args:\n",
    "        mode (tuple): QNM mode (ell, m, n, sign).\n",
    "        chif (float): Remnant spin.\n",
    "\n",
    "    Returns:\n",
    "        complex: Frequency of the QNM.\n",
    "    \"\"\"\n",
    "    return sum(\n",
    "        [\n",
    "            qnmfits.qnm.omega(ell, m, n, sign, chif, Mf, s=-2)\n",
    "            for ell, m, n, sign in [mode[i : i + 4] for i in range(0, len(mode), 4)]\n",
    "        ]\n",
    "    )\n",
    "\n",
    "def get_mixing(mode, sph_mode, chif):\n",
    "    \"\"\"\n",
    "    Compute the mixing coefficient for a given QNM mode.\n",
    "\n",
    "    Args:\n",
    "        mode (tuple): QNM mode (ell, m, n, sign).\n",
    "        chif (float): Remnant spin.\n",
    "\n",
    "    Returns:\n",
    "        complex: Mixing coefficient of the QNM. Or, if quadratic or cubic, 1.\n",
    "    \"\"\"\n",
    "    ell, m = sph_mode\n",
    "    if len(mode) == 4:\n",
    "        lp, mp, nprime, sign = mode\n",
    "        return qnmfits.qnm.mu(ell, m, lp, mp, nprime, sign, chif)\n",
    "    elif len(mode) == 8:\n",
    "        return 1 + 0j\n",
    "    elif len(mode) == 12:\n",
    "        return 1 + 0j"
   ]
  },
  {
   "cell_type": "code",
   "execution_count": 7,
   "id": "c8e213ba",
   "metadata": {},
   "outputs": [],
   "source": [
    "def get_domega_dchif(mode, chif, Mf, delta):\n",
    "    \"\"\"Compute domega/dchif for a given QNM.\"\"\"\n",
    "    omega_plus = get_frequency(mode, chif + delta, Mf)\n",
    "    omega_minus = get_frequency(mode, chif - delta, Mf)\n",
    "    return (omega_plus - omega_minus) / (2 * delta)\n",
    "\n",
    "def get_dmu_dchif(mode, sph_mode, chif, delta):\n",
    "    \"\"\"Compute dmu/dchif for a given QNM.\"\"\"\n",
    "    mu_plus = get_mixing(mode, sph_mode, chif=chif + delta)\n",
    "    mu_minus = get_mixing(mode, sph_mode, chif=chif - delta)\n",
    "    return (mu_plus - mu_minus) / (2 * delta)"
   ]
  },
  {
   "cell_type": "code",
   "execution_count": 14,
   "id": "c5181909",
   "metadata": {},
   "outputs": [
    {
     "data": {
      "image/png": "[encoded data removed]",
      "text/plain": [
       "<Figure size 640x480 with 1 Axes>"
      ]
     },
     "metadata": {},
     "output_type": "display_data"
    }
   ],
   "source": [
    "log_range = jnp.logspace(-10, -3, num=100)\n",
    "\n",
    "for delta in log_range:\n",
    "    #plt.plot(delta, get_domega_dchif((2, 2, 0, 1), 0.7, 0.95, delta), 'ro')\n",
    "    plt.xscale('log')\n",
    "    #plt.yscale('log')\n",
    "    plt.plot(delta, get_dmu_dchif((2, 2, 0, 1), (2, 2), 0.7, delta), 'bo')"
   ]
  },
  {
   "cell_type": "code",
   "execution_count": null,
   "id": "24eef574",
   "metadata": {},
   "outputs": [],
   "source": []
  }
 ],
 "metadata": {
  "kernelspec": {
   "display_name": "venv",
   "language": "python",
   "name": "python3"
  },
  "language_info": {
   "codemirror_mode": {
    "name": "ipython",
    "version": 3
   },
   "file_extension": ".py",
   "mimetype": "text/x-python",
   "name": "python",
   "nbconvert_exporter": "python",
   "pygments_lexer": "ipython3",
   "version": "3.11.4"
  }
 },
 "nbformat": 4,
 "nbformat_minor": 5
}
